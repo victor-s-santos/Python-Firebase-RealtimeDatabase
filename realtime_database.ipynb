{
 "cells": [
  {
   "cell_type": "code",
   "execution_count": 10,
   "metadata": {},
   "outputs": [],
   "source": [
    "import os\n",
    "import pyrebase\n",
    "from dotenv import load_dotenv\n",
    "load_dotenv()\n",
    "from getpass import getpass\n",
    "\n",
    "firebaseConfig = {\n",
    "    \"apiKey\": os.getenv(\"apiKey\"),\n",
    "    \"authDomain\": os.getenv(\"authDomain\"),\n",
    "    \"databaseURL\": os.getenv(\"databaseURL\"),\n",
    "    \"projectId\": os.getenv(\"projectId\"),\n",
    "    \"storageBucket\": os.getenv(\"storageBucket\"),\n",
    "    \"messagingSenderId\": os.getenv(\"messagingSenderId\"),\n",
    "    \"appId\": os.getenv(\"appId\"),\n",
    "    \"measurementId\": os.getenv(\"measurementId\") \n",
    "}\n",
    "\n",
    "firebase = pyrebase.initialize_app(firebaseConfig)\n",
    "\n",
    "db = firebase.database()"
   ]
  },
  {
   "cell_type": "code",
   "execution_count": 11,
   "metadata": {},
   "outputs": [],
   "source": [
    "#definindo o registro\n",
    "registro = {\n",
    "    \"nome\": \"Victor Santos Silva\",\n",
    "    \"cpf\": \"123.456.789-10\",\n",
    "    \"cep\": \"11250000\",\n",
    "    \"rua\": \"Miguel Seiad Bichir\",\n",
    "    \"numero\": 1270,\n",
    "    \"bairro\": \"Vila Agaó\",\n",
    "    \"cidade\": \"Bertioga\",\n",
    "    \"estado\": \"São Paulo\",\n",
    "    \"telefone\": \"1333163316\",\n",
    "    \"email\": \"victor.santos.cd@gmail.com\",\n",
    "    \"senha\": \"minhasenhasupersecreta\"\n",
    "}"
   ]
  },
  {
   "cell_type": "code",
   "execution_count": 13,
   "metadata": {},
   "outputs": [],
   "source": [
    "#definindo o registro2\n",
    "registro2 = {\n",
    "    \"nome\": \"Suelen Simões Costa\",\n",
    "    \"cpf\": \"123.456.789-10\",\n",
    "    \"cep\": \"11250000\",\n",
    "    \"rua\": \"Miguel Seiad Bichir\",\n",
    "    \"numero\": 1270,\n",
    "    \"bairro\": \"Vila Agaó\",\n",
    "    \"cidade\": \"Bertioga\",\n",
    "    \"estado\": \"São Paulo\",\n",
    "    \"telefone\": \"1333163316\",\n",
    "    \"email\": \"victor.santos.cd@gmail.com\",\n",
    "    \"senha\": \"minhasenhasupersecreta\"\n",
    "}"
   ]
  },
  {
   "cell_type": "markdown",
   "metadata": {},
   "source": [
    "## Adicionando usuário"
   ]
  },
  {
   "cell_type": "code",
   "execution_count": 37,
   "metadata": {},
   "outputs": [
    {
     "name": "stdout",
     "output_type": "stream",
     "text": [
      "O registro foi inserido no banco de dados!\n"
     ]
    }
   ],
   "source": [
    "#Inserindo o registro\n",
    "db.child(\"usuarios\").push(registro)\n",
    "print(\"O registro foi inserido no banco de dados!\")"
   ]
  },
  {
   "cell_type": "code",
   "execution_count": 43,
   "metadata": {},
   "outputs": [
    {
     "name": "stdout",
     "output_type": "stream",
     "text": [
      "O registro foi inserido no banco de dados!\n"
     ]
    }
   ],
   "source": [
    "#Inserindo o registro2\n",
    "db.child(\"usuarios\").child(\"usuario\").set(registro2)\n",
    "print(\"O registro foi inserido no banco de dados!\")\n",
    "#desta forma, o usuário é inserido na chave usuário, ao invés de criada uma string aleatória para isto"
   ]
  },
  {
   "cell_type": "markdown",
   "metadata": {},
   "source": [
    "## Neste ponto, temos dois registros no banco de dados."
   ]
  },
  {
   "cell_type": "code",
   "execution_count": 44,
   "metadata": {},
   "outputs": [
    {
     "name": "stdout",
     "output_type": "stream",
     "text": [
      "Registro atualizado com sucesso!\n"
     ]
    }
   ],
   "source": [
    "db.child(\"usuarios\").child(\"usuario\").update({\"cidade\": \"Botucatu\"})\n",
    "print(\"Registro atualizado com sucesso!\")"
   ]
  },
  {
   "cell_type": "code",
   "execution_count": 48,
   "metadata": {},
   "outputs": [
    {
     "name": "stdout",
     "output_type": "stream",
     "text": [
      "OrderedDict([('-MKagzMYjJQG-LgZRrRp', {'bairro': 'Vila Agaó', 'cep': '11250000', 'cidade': 'Bertioga', 'cpf': '123.456.789-10', 'email': 'victor.santos.cd@gmail.com', 'estado': 'São Paulo', 'nome': 'Victor Santos Silva', 'numero': 1270, 'rua': 'Miguel Seiad Bichir', 'senha': 'minhasenhasupersecreta', 'telefone': '1333163316'}), ('usuario', {'bairro': 'Vila Agaó', 'cep': '11250000', 'cidade': 'Botucatu', 'cpf': '123.456.789-10', 'email': 'victor.santos.cd@gmail.com', 'estado': 'São Paulo', 'nome': 'Victor Santos Silva', 'numero': 1270, 'rua': 'Miguel Seiad Bichir', 'senha': 'minhasenhasupersecreta', 'telefone': '1333163316'})])\n"
     ]
    }
   ],
   "source": [
    "usuarios = db.child(\"usuarios\").get()\n",
    "print(usuarios.val())"
   ]
  },
  {
   "cell_type": "code",
   "execution_count": 52,
   "metadata": {},
   "outputs": [
    {
     "name": "stdout",
     "output_type": "stream",
     "text": [
      "-MKagzMYjJQG-LgZRrRp {'bairro': 'Vila Agaó', 'cep': '11250000', 'cidade': 'Bertioga', 'cpf': '123.456.789-10', 'email': 'victor.santos.cd@gmail.com', 'estado': 'São Paulo', 'nome': 'Victor Santos Silva', 'numero': 1270, 'rua': 'Miguel Seiad Bichir', 'senha': 'minhasenhasupersecreta', 'telefone': '1333163316'}\n",
      "usuario {'bairro': 'Vila Agaó', 'cep': '11250000', 'cidade': 'Botucatu', 'cpf': '123.456.789-10', 'email': 'victor.santos.cd@gmail.com', 'estado': 'São Paulo', 'nome': 'Victor Santos Silva', 'numero': 1270, 'rua': 'Miguel Seiad Bichir', 'senha': 'minhasenhasupersecreta', 'telefone': '1333163316'}\n"
     ]
    }
   ],
   "source": [
    "#iterando com um loop\n",
    "for usuario in usuarios.each():\n",
    "    print(usuario.key(), usuario.val())"
   ]
  },
  {
   "cell_type": "markdown",
   "metadata": {},
   "source": [
    "## Removendo usuário"
   ]
  },
  {
   "cell_type": "code",
   "execution_count": 53,
   "metadata": {},
   "outputs": [
    {
     "name": "stdout",
     "output_type": "stream",
     "text": [
      "Usuário removido com sucesso!\n"
     ]
    }
   ],
   "source": [
    "db.child(\"usuarios\").child(\"usuario\").remove()\n",
    "print(\"Usuário removido com sucesso!\")"
   ]
  }
 ],
 "metadata": {
  "kernelspec": {
   "display_name": "Python 3",
   "language": "python",
   "name": "python3"
  },
  "language_info": {
   "codemirror_mode": {
    "name": "ipython",
    "version": 3
   },
   "file_extension": ".py",
   "mimetype": "text/x-python",
   "name": "python",
   "nbconvert_exporter": "python",
   "pygments_lexer": "ipython3",
   "version": "3.8.0"
  }
 },
 "nbformat": 4,
 "nbformat_minor": 4
}
